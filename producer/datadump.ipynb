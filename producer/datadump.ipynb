{
 "cells": [
  {
   "cell_type": "code",
   "execution_count": 2,
   "id": "4cc5a558-8ca3-4a1e-a81b-a63df58258af",
   "metadata": {
    "tags": []
   },
   "outputs": [
    {
     "name": "stdout",
     "output_type": "stream",
     "text": [
      "Data telah dimasukkan ke tabel old_information.\n"
     ]
    }
   ],
   "source": [
    "import pandas as pd\n",
    "import urllib.parse\n",
    "\n",
    "from sqlalchemy import create_engine\n",
    "\n",
    "def insert_data_to_postgresql(df, table_name, db_url):\n",
    "    try:\n",
    "        engine = create_engine(db_url)\n",
    "\n",
    "        df.to_sql(table_name, engine, if_exists='append', index=False)\n",
    "        print(f\"Data telah dimasukkan ke tabel {table_name}.\")\n",
    "    except Exception as e:\n",
    "        print(f\"Terjadi kesalahan: {e}\")\n",
    "\n",
    "if __name__ == \"__main__\":\n",
    "    csv_path = \"Old_Information.csv\"\n",
    "    data = pd.read_csv(csv_path)\n",
    "    \n",
    "    # Informasi koneksi ke PostgreSQL\n",
    "    username = \"postgres\"\n",
    "    password = \"12345678\"\n",
    "    host = \"localhost\"\n",
    "    port = \"5432\"\n",
    "    database = \"project4\"\n",
    "    password = urllib.parse.quote_plus(password)\n",
    "\n",
    "    # URL koneksi ke PostgreSQL\n",
    "    db_url = f\"postgresql://{username}:{password}@{host}:{port}/{database}\"\n",
    "\n",
    "    table_name = \"old_information\"\n",
    "    insert_data_to_postgresql(data, table_name, db_url)"
   ]
  },
  {
   "cell_type": "code",
   "execution_count": null,
   "id": "d927fb7b-c939-45d3-b1b7-c16888c3ad3c",
   "metadata": {},
   "outputs": [],
   "source": []
  }
 ],
 "metadata": {
  "kernelspec": {
   "display_name": "Python 3 (ipykernel)",
   "language": "python",
   "name": "python3"
  },
  "language_info": {
   "codemirror_mode": {
    "name": "ipython",
    "version": 3
   },
   "file_extension": ".py",
   "mimetype": "text/x-python",
   "name": "python",
   "nbconvert_exporter": "python",
   "pygments_lexer": "ipython3",
   "version": "3.12.4"
  }
 },
 "nbformat": 4,
 "nbformat_minor": 5
}
